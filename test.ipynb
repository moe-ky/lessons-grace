{
 "cells": [
  {
   "cell_type": "code",
   "execution_count": 10,
   "id": "883d5b90",
   "metadata": {},
   "outputs": [
    {
     "name": "stdout",
     "output_type": "stream",
     "text": [
      "current_num: 1, previous_num: 0, sum_value: 1\n",
      "current_num: 2, previous_num: 1, sum_value: 3\n",
      "current_num: 3, previous_num: 2, sum_value: 5\n",
      "current_num: 4, previous_num: 3, sum_value: 7\n",
      "current_num: 5, previous_num: 4, sum_value: 9\n",
      "current_num: 6, previous_num: 5, sum_value: 11\n",
      "current_num: 7, previous_num: 6, sum_value: 13\n",
      "current_num: 8, previous_num: 7, sum_value: 15\n",
      "current_num: 9, previous_num: 8, sum_value: 17\n",
      "current_num: 10, previous_num: 9, sum_value: 19\n"
     ]
    }
   ],
   "source": [
    "for i in range (1,11):\n",
    "    current_num = i \n",
    "    previous_num = current_num - 1\n",
    "    sum_value = current_num + previous_num\n",
    "    print (f\"current_num: {current_num}, previous_num: {previous_num}, sum_value: {sum_value}\")\n"
   ]
  },
  {
   "cell_type": "code",
   "execution_count": null,
   "id": "a441d558",
   "metadata": {},
   "outputs": [
    {
     "name": "stdout",
     "output_type": "stream",
     "text": [
      "Printing current and previous number and their sum in a range(10)\n",
      "Current Number 1 Previous Number  0  Sum:  1\n",
      "Current Number 2 Previous Number  1  Sum:  3\n",
      "Current Number 3 Previous Number  2  Sum:  5\n",
      "Current Number 4 Previous Number  3  Sum:  7\n",
      "Current Number 5 Previous Number  4  Sum:  9\n",
      "Current Number 6 Previous Number  5  Sum:  11\n",
      "Current Number 7 Previous Number  6  Sum:  13\n",
      "Current Number 8 Previous Number  7  Sum:  15\n",
      "Current Number 9 Previous Number  8  Sum:  17\n",
      "Current Number 10 Previous Number  9  Sum:  19\n"
     ]
    }
   ],
   "source": [
    "previous_num = 0\n",
    "for i in range(1, 11):\n",
    "    x_sum = previous_num + i\n",
    "    print(\"Current Number\", i, \"Previous Number \", previous_num, \" Sum: \", x_sum)\n",
    "    previous_num = i"
   ]
  },
  {
   "cell_type": "code",
   "execution_count": null,
   "id": "7f1e3a83",
   "metadata": {},
   "outputs": [
    {
     "name": "stdout",
     "output_type": "stream",
     "text": [
      "1 \n",
      "2 2 \n",
      "3 3 3 \n",
      "4 4 4 4 \n",
      "5 5 5 5 5 \n",
      "6 6 6 6 6 6 \n",
      "7 7 7 7 7 7 7 \n",
      "8 8 8 8 8 8 8 8 \n",
      "9 9 9 9 9 9 9 9 9 \n"
     ]
    }
   ],
   "source": [
    "for i in range(1, 10):\n",
    "    print(f\"{str(i)} \" * i)\n"
   ]
  },
  {
   "cell_type": "code",
   "execution_count": 26,
   "id": "3e1b34c9",
   "metadata": {},
   "outputs": [
    {
     "name": "stdout",
     "output_type": "stream",
     "text": [
      "num is currently 0\n",
      "\n",
      "\n",
      "num is currently 1\n",
      "1 \n",
      "\n",
      "num is currently 2\n",
      "2 2 \n",
      "\n",
      "num is currently 3\n",
      "3 3 3 \n",
      "\n",
      "num is currently 4\n",
      "4 4 4 4 \n",
      "\n",
      "num is currently 5\n",
      "5 5 5 5 5 \n",
      "\n",
      "num is currently 6\n",
      "6 6 6 6 6 6 \n",
      "\n",
      "num is currently 7\n",
      "7 7 7 7 7 7 7 \n",
      "\n",
      "num is currently 8\n",
      "8 8 8 8 8 8 8 8 \n",
      "\n",
      "num is currently 9\n",
      "9 9 9 9 9 9 9 9 9 \n",
      "\n"
     ]
    }
   ],
   "source": [
    "for num in range(10):\n",
    "    print(\"num is currently\", num)\n",
    "    for i in range(num):\n",
    "        print (num, end = \" \") # print number\n",
    "    # new line after each row to display pattern correctly\n",
    "    print(\"\\n\")"
   ]
  },
  {
   "cell_type": "code",
   "execution_count": 22,
   "id": "6442de99",
   "metadata": {},
   "outputs": [
    {
     "name": "stdout",
     "output_type": "stream",
     "text": [
      "0 1 2 3 4 5 6 7 8 9 "
     ]
    }
   ],
   "source": [
    "for i in range(0, 10):\n",
    "    print(i, end = \" \")"
   ]
  },
  {
   "cell_type": "code",
   "execution_count": 38,
   "id": "5f3348ff",
   "metadata": {},
   "outputs": [
    {
     "data": {
      "text/plain": [
       "True"
      ]
     },
     "execution_count": 38,
     "metadata": {},
     "output_type": "execute_result"
    }
   ],
   "source": [
    "int(\"200\") > 0"
   ]
  },
  {
   "cell_type": "code",
   "execution_count": 35,
   "id": "a60b4104",
   "metadata": {},
   "outputs": [
    {
     "name": "stdout",
     "output_type": "stream",
     "text": [
      "121 121\n",
      "121 is a palindrome!\n"
     ]
    }
   ],
   "source": [
    "num = 121\n",
    "string_version = str(num)\n",
    "reverse_string = string_version[::-1]\n",
    "print(string_version, reverse_string)\n",
    "\n",
    "if string_version == reverse_string:\n",
    "    print (num, \"is a palindrome!\")\n",
    "else:\n",
    "    print(num, \"is not a palindrome!\")"
   ]
  }
 ],
 "metadata": {
  "kernelspec": {
   "display_name": "Python 3",
   "language": "python",
   "name": "python3"
  },
  "language_info": {
   "codemirror_mode": {
    "name": "ipython",
    "version": 3
   },
   "file_extension": ".py",
   "mimetype": "text/x-python",
   "name": "python",
   "nbconvert_exporter": "python",
   "pygments_lexer": "ipython3",
   "version": "3.9.10"
  }
 },
 "nbformat": 4,
 "nbformat_minor": 5
}
